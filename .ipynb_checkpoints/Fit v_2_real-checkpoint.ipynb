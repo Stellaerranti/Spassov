{
 "cells": [
  {
   "cell_type": "code",
   "execution_count": 43,
   "id": "18887008-5b34-4567-ae66-bd4974270653",
   "metadata": {},
   "outputs": [],
   "source": [
    "import matplotlib.pyplot as plt\n",
    "import numpy as np\n",
    "from scipy.integrate import quad\n",
    "from scipy.optimize import curve_fit\n",
    "from numpy import exp\n",
    "from numpy import sin\n",
    "from numpy import tanh\n",
    "from scipy.optimize import minimize\n",
    "from scipy.optimize import dual_annealing\n",
    "from scipy.optimize import differential_evolution"
   ]
  },
  {
   "cell_type": "code",
   "execution_count": 44,
   "id": "87f1b69c-284e-478e-9897-a5fe4993fc50",
   "metadata": {},
   "outputs": [],
   "source": [
    "def get_lock_depth_from_params(params):\n",
    "    a1,a2,b1,b2 = params\n",
    "    lock_in_depth = [(b1-2)/a1,(b1+2)/a1,(b2-2)/a2,(b2+2)/a2]\n",
    "    return lock_in_depth"
   ]
  },
  {
   "cell_type": "code",
   "execution_count": 45,
   "id": "b22ad75d-9e89-4124-af71-790eafdbaeb6",
   "metadata": {},
   "outputs": [],
   "source": [
    "def get_params_from_depths(lock_in_depth):\n",
    "    l0,l1,l2,l3 = lock_in_depth\n",
    "    params = [4/(l1-l0),4/(l3-l2),2*(l1+l0)/(l1-l0),2*(l3+l2)/(l3-l2)]\n",
    "    return params"
   ]
  },
  {
   "cell_type": "code",
   "execution_count": 46,
   "id": "5cbcd742-b340-4a8f-8d7a-ef56a93df6e7",
   "metadata": {},
   "outputs": [],
   "source": [
    "def e(z):\n",
    "    #return 0.4\n",
    "    #return sin(z*16+1.5)/2 + 0.5\n",
    "    return 1-fraction_data[np.where(depth == z)[0]]"
   ]
  },
  {
   "cell_type": "code",
   "execution_count": 47,
   "id": "a6a92ccd-47f2-4910-9af3-6e5499818153",
   "metadata": {},
   "outputs": [],
   "source": [
    "def H(z):\n",
    "    # Ensure z is treated properly, even if it's an array\n",
    "    return -np.tanh(((c2 + c1) * (z - (c2 + c1) / 2)) / (c2 - c1))"
   ]
  },
  {
   "cell_type": "code",
   "execution_count": 48,
   "id": "2ad0b50e-ce6a-4cb1-a3b8-3a692a6a1972",
   "metadata": {},
   "outputs": [],
   "source": [
    "def l (z,s,a1,b1,a2,b2):\n",
    "    return e(z)/(1+exp(-a1*s+b1)) + (1-e(z))/(1+exp(-a2*s+b2))"
   ]
  },
  {
   "cell_type": "code",
   "execution_count": 49,
   "id": "3d3b96db-e389-4894-8460-a45454d14b99",
   "metadata": {},
   "outputs": [],
   "source": [
    "def l_diff(z, s, a1, b1, a2, b2):\n",
    "    term1 = (a1 * np.exp(-a1 * s + b1)) / (1 + np.exp(-a1 * s + b1))**2\n",
    "    term2 = (a2 * np.exp(-a2 * s + b2)) / (1 + np.exp(-a2 * s + b2))**2\n",
    "    return e(z) * term1 + (1 - e(z)) * term2"
   ]
  },
  {
   "cell_type": "code",
   "execution_count": 50,
   "id": "591dc1c1-dc19-41c7-9cd9-262c7a859917",
   "metadata": {},
   "outputs": [],
   "source": [
    "def integral(s, z, a1, a2, b1, b2):\n",
    "    # Convert z to float to ensure scalar use in quad\n",
    "    return H(float(z) - s) * l_diff(float(z), s, a1, b1, a2, b2)"
   ]
  },
  {
   "cell_type": "code",
   "execution_count": 51,
   "id": "f3246dc4-7f81-4667-90ed-8ee05df845db",
   "metadata": {},
   "outputs": [],
   "source": [
    "def functional_integration(z, a1, a2, b1, b2):\n",
    "    # Use quad with scalar z, converting array inputs to floats\n",
    "    result, _ = quad(lambda s: integral(s, float(z), a1, a2, b1, b2), 0, float(z))\n",
    "    return result"
   ]
  },
  {
   "cell_type": "code",
   "execution_count": 52,
   "id": "8ee9bbc9-8825-47c5-bd06-e069ffd76e3a",
   "metadata": {},
   "outputs": [],
   "source": [
    "def get_magnetisation(z, params):\n",
    "    a1, a2, b1, b2 = params\n",
    "    \n",
    "    # Vectorize the integration function to handle array inputs\n",
    "    vec_func_integration = np.vectorize(functional_integration)\n",
    "    M = vec_func_integration(z, a1, a2, b1, b2)\n",
    "    \n",
    "    return np.tanh(M * 10**3)"
   ]
  },
  {
   "cell_type": "code",
   "execution_count": 53,
   "id": "747f3702-084f-4034-babc-91968af9c051",
   "metadata": {},
   "outputs": [],
   "source": [
    "def huber_loss(params, z_data, M_obs, delta=1.0):\n",
    "    # Compute predicted magnetization\n",
    "    M_pred = get_magnetisation(z_data, params)\n",
    "    \n",
    "    # Compute the residuals\n",
    "    residuals = M_obs - M_pred\n",
    "    \n",
    "    # Compute Huber loss\n",
    "    loss = np.where(np.abs(residuals) <= delta,\n",
    "                    0.5 * residuals ** 2,\n",
    "                    delta * (np.abs(residuals) - 0.5 * delta))\n",
    "    \n",
    "    return np.mean(loss)"
   ]
  },
  {
   "cell_type": "code",
   "execution_count": 54,
   "id": "c4d9b666-c181-404e-a328-57c653d100ac",
   "metadata": {},
   "outputs": [],
   "source": [
    "def random_restarts_optimization(loss_function, z_data, M_obs, bounds, n_restarts=10):\n",
    "    solutions = []\n",
    "    for i in range(n_restarts):\n",
    "        # Generate a random initial guess within the bounds\n",
    "        random_initial = [np.random.uniform(low, high) for low, high in bounds]\n",
    "        \n",
    "        # Minimize the loss function\n",
    "        result = minimize(loss_function, random_initial, args=(z_data, M_obs), method='L-BFGS-B', bounds=bounds)\n",
    "        solutions.append(result.x)\n",
    "        \n",
    "        print(f\"Iteration: {i+1}\")\n",
    "    \n",
    "    return solutions"
   ]
  },
  {
   "cell_type": "code",
   "execution_count": 67,
   "id": "dea3c8db-ccc2-41e2-8b72-fcc1dd48cd02",
   "metadata": {},
   "outputs": [],
   "source": [
    "depth = np.linspace(0.1,10,70)"
   ]
  },
  {
   "cell_type": "code",
   "execution_count": 68,
   "id": "37c46cb8-aea7-40dd-a33b-9f884b6d1e48",
   "metadata": {},
   "outputs": [],
   "source": [
    "params = get_params_from_depths([0.4,1,1.2,3.2])\n",
    "M_obs = get_magnetisation(depth,params)"
   ]
  },
  {
   "cell_type": "code",
   "execution_count": 69,
   "id": "48f075ff-ee4a-4a48-ba6d-a2c913cdfbbe",
   "metadata": {},
   "outputs": [],
   "source": [
    "_ , fraction_data = np.loadtxt('ez.txt', unpack = True)"
   ]
  },
  {
   "cell_type": "code",
   "execution_count": 70,
   "id": "a025dfcc-d8d6-436c-81ba-e920be6cbd37",
   "metadata": {},
   "outputs": [],
   "source": [
    "polarity = np.loadtxt('Kuldara_polarity for Dima.txt')"
   ]
  },
  {
   "cell_type": "code",
   "execution_count": 71,
   "id": "99f1ff68-46da-4a96-8666-223b77e2df24",
   "metadata": {},
   "outputs": [],
   "source": [
    "polarity = np.loadtxt('Kuldara_polarity for Dima.txt')\n",
    "M_obs = polarity[np.logical_not(np.logical_and(polarity[:,1]>-45,polarity[:,1]<45))]"
   ]
  },
  {
   "cell_type": "code",
   "execution_count": 72,
   "id": "daf6bf3c-e9c6-43e4-a1b5-88db2f7bfdc0",
   "metadata": {},
   "outputs": [],
   "source": [
    "depth, M_obs = M_obs[:,0],M_obs[:,1]"
   ]
  },
  {
   "cell_type": "code",
   "execution_count": 73,
   "id": "9e70e155-93fa-4b92-88a7-2d57284839c5",
   "metadata": {},
   "outputs": [],
   "source": [
    "M_obs[M_obs > 0] = 1.\n",
    "M_obs[M_obs < 0] = -1."
   ]
  },
  {
   "cell_type": "code",
   "execution_count": 74,
   "id": "947b75db-5e54-41a1-8b17-9f8984d7336b",
   "metadata": {},
   "outputs": [],
   "source": [
    "M_obs = np.array(M_obs)\n",
    "depth = np.array(depth)"
   ]
  },
  {
   "cell_type": "code",
   "execution_count": 62,
   "id": "aafdb9ae-a407-4ea1-86a5-09551761bdd7",
   "metadata": {},
   "outputs": [],
   "source": [
    "c1 = 73\n",
    "c2 = 74.5"
   ]
  },
  {
   "cell_type": "code",
   "execution_count": 63,
   "id": "2dc1c92d-7ad3-4ec1-afb7-c2f0f75df658",
   "metadata": {},
   "outputs": [
    {
     "name": "stdout",
     "output_type": "stream",
     "text": [
      "(164,) (164,)\n"
     ]
    }
   ],
   "source": [
    "print(depth.shape, M_obs.shape)"
   ]
  },
  {
   "cell_type": "code",
   "execution_count": 64,
   "id": "381e3d85-4f61-4679-b84a-ab29d8454fab",
   "metadata": {},
   "outputs": [],
   "source": [
    "bounds = [(3., 7.),  # a1\n",
    "          (0.5, 3.),  # a2\n",
    "          (2.5, 4.8),    # b1\n",
    "          (3., 5.)]    # b2"
   ]
  },
  {
   "cell_type": "code",
   "execution_count": 65,
   "id": "1a1ec8d4-5083-44a5-8085-b748c7c2a112",
   "metadata": {},
   "outputs": [],
   "source": [
    "initial_params = [1.0, 1.0, 1.0, 1.0]"
   ]
  },
  {
   "cell_type": "code",
   "execution_count": 66,
   "id": "4eec125a-0e69-4542-a51f-571d8cfe37f9",
   "metadata": {},
   "outputs": [
    {
     "ename": "TypeError",
     "evalue": "only length-1 arrays can be converted to Python scalars",
     "output_type": "error",
     "traceback": [
      "\u001b[1;31m---------------------------------------------------------------------------\u001b[0m",
      "\u001b[1;31mTypeError\u001b[0m                                 Traceback (most recent call last)",
      "Cell \u001b[1;32mIn[66], line 1\u001b[0m\n\u001b[1;32m----> 1\u001b[0m solutions \u001b[38;5;241m=\u001b[39m random_restarts_optimization(huber_loss, depth, M_obs, bounds, n_restarts\u001b[38;5;241m=\u001b[39m\u001b[38;5;241m10\u001b[39m)\n\u001b[0;32m      2\u001b[0m \u001b[38;5;28mprint\u001b[39m(\u001b[38;5;124m\"\u001b[39m\u001b[38;5;124mMultiple solutions found:\u001b[39m\u001b[38;5;124m\"\u001b[39m, solutions)\n",
      "Cell \u001b[1;32mIn[54], line 8\u001b[0m, in \u001b[0;36mrandom_restarts_optimization\u001b[1;34m(loss_function, z_data, M_obs, bounds, n_restarts)\u001b[0m\n\u001b[0;32m      5\u001b[0m random_initial \u001b[38;5;241m=\u001b[39m [np\u001b[38;5;241m.\u001b[39mrandom\u001b[38;5;241m.\u001b[39muniform(low, high) \u001b[38;5;28;01mfor\u001b[39;00m low, high \u001b[38;5;129;01min\u001b[39;00m bounds]\n\u001b[0;32m      7\u001b[0m \u001b[38;5;66;03m# Minimize the loss function\u001b[39;00m\n\u001b[1;32m----> 8\u001b[0m result \u001b[38;5;241m=\u001b[39m minimize(loss_function, random_initial, args\u001b[38;5;241m=\u001b[39m(z_data, M_obs), method\u001b[38;5;241m=\u001b[39m\u001b[38;5;124m'\u001b[39m\u001b[38;5;124mL-BFGS-B\u001b[39m\u001b[38;5;124m'\u001b[39m, bounds\u001b[38;5;241m=\u001b[39mbounds)\n\u001b[0;32m      9\u001b[0m solutions\u001b[38;5;241m.\u001b[39mappend(result\u001b[38;5;241m.\u001b[39mx)\n\u001b[0;32m     11\u001b[0m \u001b[38;5;28mprint\u001b[39m(\u001b[38;5;124mf\u001b[39m\u001b[38;5;124m\"\u001b[39m\u001b[38;5;124mIteration: \u001b[39m\u001b[38;5;132;01m{\u001b[39;00mi\u001b[38;5;241m+\u001b[39m\u001b[38;5;241m1\u001b[39m\u001b[38;5;132;01m}\u001b[39;00m\u001b[38;5;124m\"\u001b[39m)\n",
      "File \u001b[1;32m~\\anaconda3\\Lib\\site-packages\\scipy\\optimize\\_minimize.py:731\u001b[0m, in \u001b[0;36mminimize\u001b[1;34m(fun, x0, args, method, jac, hess, hessp, bounds, constraints, tol, callback, options)\u001b[0m\n\u001b[0;32m    728\u001b[0m     res \u001b[38;5;241m=\u001b[39m _minimize_newtoncg(fun, x0, args, jac, hess, hessp, callback,\n\u001b[0;32m    729\u001b[0m                              \u001b[38;5;241m*\u001b[39m\u001b[38;5;241m*\u001b[39moptions)\n\u001b[0;32m    730\u001b[0m \u001b[38;5;28;01melif\u001b[39;00m meth \u001b[38;5;241m==\u001b[39m \u001b[38;5;124m'\u001b[39m\u001b[38;5;124ml-bfgs-b\u001b[39m\u001b[38;5;124m'\u001b[39m:\n\u001b[1;32m--> 731\u001b[0m     res \u001b[38;5;241m=\u001b[39m _minimize_lbfgsb(fun, x0, args, jac, bounds,\n\u001b[0;32m    732\u001b[0m                            callback\u001b[38;5;241m=\u001b[39mcallback, \u001b[38;5;241m*\u001b[39m\u001b[38;5;241m*\u001b[39moptions)\n\u001b[0;32m    733\u001b[0m \u001b[38;5;28;01melif\u001b[39;00m meth \u001b[38;5;241m==\u001b[39m \u001b[38;5;124m'\u001b[39m\u001b[38;5;124mtnc\u001b[39m\u001b[38;5;124m'\u001b[39m:\n\u001b[0;32m    734\u001b[0m     res \u001b[38;5;241m=\u001b[39m _minimize_tnc(fun, x0, args, jac, bounds, callback\u001b[38;5;241m=\u001b[39mcallback,\n\u001b[0;32m    735\u001b[0m                         \u001b[38;5;241m*\u001b[39m\u001b[38;5;241m*\u001b[39moptions)\n",
      "File \u001b[1;32m~\\anaconda3\\Lib\\site-packages\\scipy\\optimize\\_lbfgsb_py.py:347\u001b[0m, in \u001b[0;36m_minimize_lbfgsb\u001b[1;34m(fun, x0, args, jac, bounds, disp, maxcor, ftol, gtol, eps, maxfun, maxiter, iprint, callback, maxls, finite_diff_rel_step, **unknown_options)\u001b[0m\n\u001b[0;32m    344\u001b[0m         iprint \u001b[38;5;241m=\u001b[39m disp\n\u001b[0;32m    346\u001b[0m \u001b[38;5;66;03m# _prepare_scalar_function can use bounds=None to represent no bounds\u001b[39;00m\n\u001b[1;32m--> 347\u001b[0m sf \u001b[38;5;241m=\u001b[39m _prepare_scalar_function(fun, x0, jac\u001b[38;5;241m=\u001b[39mjac, args\u001b[38;5;241m=\u001b[39margs, epsilon\u001b[38;5;241m=\u001b[39meps,\n\u001b[0;32m    348\u001b[0m                               bounds\u001b[38;5;241m=\u001b[39mbounds,\n\u001b[0;32m    349\u001b[0m                               finite_diff_rel_step\u001b[38;5;241m=\u001b[39mfinite_diff_rel_step)\n\u001b[0;32m    351\u001b[0m func_and_grad \u001b[38;5;241m=\u001b[39m sf\u001b[38;5;241m.\u001b[39mfun_and_grad\n\u001b[0;32m    353\u001b[0m fortran_int \u001b[38;5;241m=\u001b[39m _lbfgsb\u001b[38;5;241m.\u001b[39mtypes\u001b[38;5;241m.\u001b[39mintvar\u001b[38;5;241m.\u001b[39mdtype\n",
      "File \u001b[1;32m~\\anaconda3\\Lib\\site-packages\\scipy\\optimize\\_optimize.py:288\u001b[0m, in \u001b[0;36m_prepare_scalar_function\u001b[1;34m(fun, x0, jac, args, bounds, epsilon, finite_diff_rel_step, hess)\u001b[0m\n\u001b[0;32m    284\u001b[0m     bounds \u001b[38;5;241m=\u001b[39m (\u001b[38;5;241m-\u001b[39mnp\u001b[38;5;241m.\u001b[39minf, np\u001b[38;5;241m.\u001b[39minf)\n\u001b[0;32m    286\u001b[0m \u001b[38;5;66;03m# ScalarFunction caches. Reuse of fun(x) during grad\u001b[39;00m\n\u001b[0;32m    287\u001b[0m \u001b[38;5;66;03m# calculation reduces overall function evaluations.\u001b[39;00m\n\u001b[1;32m--> 288\u001b[0m sf \u001b[38;5;241m=\u001b[39m ScalarFunction(fun, x0, args, grad, hess,\n\u001b[0;32m    289\u001b[0m                     finite_diff_rel_step, bounds, epsilon\u001b[38;5;241m=\u001b[39mepsilon)\n\u001b[0;32m    291\u001b[0m \u001b[38;5;28;01mreturn\u001b[39;00m sf\n",
      "File \u001b[1;32m~\\anaconda3\\Lib\\site-packages\\scipy\\optimize\\_differentiable_functions.py:222\u001b[0m, in \u001b[0;36mScalarFunction.__init__\u001b[1;34m(self, fun, x0, args, grad, hess, finite_diff_rel_step, finite_diff_bounds, epsilon)\u001b[0m\n\u001b[0;32m    219\u001b[0m     finite_diff_options[\u001b[38;5;124m\"\u001b[39m\u001b[38;5;124mas_linear_operator\u001b[39m\u001b[38;5;124m\"\u001b[39m] \u001b[38;5;241m=\u001b[39m \u001b[38;5;28;01mTrue\u001b[39;00m\n\u001b[0;32m    221\u001b[0m \u001b[38;5;66;03m# Initial function evaluation\u001b[39;00m\n\u001b[1;32m--> 222\u001b[0m \u001b[38;5;28mself\u001b[39m\u001b[38;5;241m.\u001b[39m_update_fun()\n\u001b[0;32m    224\u001b[0m \u001b[38;5;66;03m# Initial gradient evaluation\u001b[39;00m\n\u001b[0;32m    225\u001b[0m \u001b[38;5;28mself\u001b[39m\u001b[38;5;241m.\u001b[39m_wrapped_grad, \u001b[38;5;28mself\u001b[39m\u001b[38;5;241m.\u001b[39m_ngev \u001b[38;5;241m=\u001b[39m _wrapper_grad(\n\u001b[0;32m    226\u001b[0m     grad,\n\u001b[0;32m    227\u001b[0m     fun\u001b[38;5;241m=\u001b[39m\u001b[38;5;28mself\u001b[39m\u001b[38;5;241m.\u001b[39m_wrapped_fun,\n\u001b[0;32m    228\u001b[0m     args\u001b[38;5;241m=\u001b[39margs,\n\u001b[0;32m    229\u001b[0m     finite_diff_options\u001b[38;5;241m=\u001b[39mfinite_diff_options\n\u001b[0;32m    230\u001b[0m )\n",
      "File \u001b[1;32m~\\anaconda3\\Lib\\site-packages\\scipy\\optimize\\_differentiable_functions.py:294\u001b[0m, in \u001b[0;36mScalarFunction._update_fun\u001b[1;34m(self)\u001b[0m\n\u001b[0;32m    292\u001b[0m \u001b[38;5;28;01mdef\u001b[39;00m \u001b[38;5;21m_update_fun\u001b[39m(\u001b[38;5;28mself\u001b[39m):\n\u001b[0;32m    293\u001b[0m     \u001b[38;5;28;01mif\u001b[39;00m \u001b[38;5;129;01mnot\u001b[39;00m \u001b[38;5;28mself\u001b[39m\u001b[38;5;241m.\u001b[39mf_updated:\n\u001b[1;32m--> 294\u001b[0m         fx \u001b[38;5;241m=\u001b[39m \u001b[38;5;28mself\u001b[39m\u001b[38;5;241m.\u001b[39m_wrapped_fun(\u001b[38;5;28mself\u001b[39m\u001b[38;5;241m.\u001b[39mx)\n\u001b[0;32m    295\u001b[0m         \u001b[38;5;28;01mif\u001b[39;00m fx \u001b[38;5;241m<\u001b[39m \u001b[38;5;28mself\u001b[39m\u001b[38;5;241m.\u001b[39m_lowest_f:\n\u001b[0;32m    296\u001b[0m             \u001b[38;5;28mself\u001b[39m\u001b[38;5;241m.\u001b[39m_lowest_x \u001b[38;5;241m=\u001b[39m \u001b[38;5;28mself\u001b[39m\u001b[38;5;241m.\u001b[39mx\n",
      "File \u001b[1;32m~\\anaconda3\\Lib\\site-packages\\scipy\\optimize\\_differentiable_functions.py:20\u001b[0m, in \u001b[0;36m_wrapper_fun.<locals>.wrapped\u001b[1;34m(x)\u001b[0m\n\u001b[0;32m     16\u001b[0m ncalls[\u001b[38;5;241m0\u001b[39m] \u001b[38;5;241m+\u001b[39m\u001b[38;5;241m=\u001b[39m \u001b[38;5;241m1\u001b[39m\n\u001b[0;32m     17\u001b[0m \u001b[38;5;66;03m# Send a copy because the user may overwrite it.\u001b[39;00m\n\u001b[0;32m     18\u001b[0m \u001b[38;5;66;03m# Overwriting results in undefined behaviour because\u001b[39;00m\n\u001b[0;32m     19\u001b[0m \u001b[38;5;66;03m# fun(self.x) will change self.x, with the two no longer linked.\u001b[39;00m\n\u001b[1;32m---> 20\u001b[0m fx \u001b[38;5;241m=\u001b[39m fun(np\u001b[38;5;241m.\u001b[39mcopy(x), \u001b[38;5;241m*\u001b[39margs)\n\u001b[0;32m     21\u001b[0m \u001b[38;5;66;03m# Make sure the function returns a true scalar\u001b[39;00m\n\u001b[0;32m     22\u001b[0m \u001b[38;5;28;01mif\u001b[39;00m \u001b[38;5;129;01mnot\u001b[39;00m np\u001b[38;5;241m.\u001b[39misscalar(fx):\n",
      "Cell \u001b[1;32mIn[53], line 3\u001b[0m, in \u001b[0;36mhuber_loss\u001b[1;34m(params, z_data, M_obs, delta)\u001b[0m\n\u001b[0;32m      1\u001b[0m \u001b[38;5;28;01mdef\u001b[39;00m \u001b[38;5;21mhuber_loss\u001b[39m(params, z_data, M_obs, delta\u001b[38;5;241m=\u001b[39m\u001b[38;5;241m1.0\u001b[39m):\n\u001b[0;32m      2\u001b[0m     \u001b[38;5;66;03m# Compute predicted magnetization\u001b[39;00m\n\u001b[1;32m----> 3\u001b[0m     M_pred \u001b[38;5;241m=\u001b[39m get_magnetisation(z_data, params)\n\u001b[0;32m      5\u001b[0m     \u001b[38;5;66;03m# Compute the residuals\u001b[39;00m\n\u001b[0;32m      6\u001b[0m     residuals \u001b[38;5;241m=\u001b[39m M_obs \u001b[38;5;241m-\u001b[39m M_pred\n",
      "Cell \u001b[1;32mIn[52], line 6\u001b[0m, in \u001b[0;36mget_magnetisation\u001b[1;34m(z, params)\u001b[0m\n\u001b[0;32m      4\u001b[0m \u001b[38;5;66;03m# Vectorize the integration function to handle array inputs\u001b[39;00m\n\u001b[0;32m      5\u001b[0m vec_func_integration \u001b[38;5;241m=\u001b[39m np\u001b[38;5;241m.\u001b[39mvectorize(functional_integration)\n\u001b[1;32m----> 6\u001b[0m M \u001b[38;5;241m=\u001b[39m vec_func_integration(z, a1, a2, b1, b2)\n\u001b[0;32m      8\u001b[0m \u001b[38;5;28;01mreturn\u001b[39;00m np\u001b[38;5;241m.\u001b[39mtanh(M \u001b[38;5;241m*\u001b[39m \u001b[38;5;241m10\u001b[39m\u001b[38;5;241m*\u001b[39m\u001b[38;5;241m*\u001b[39m\u001b[38;5;241m3\u001b[39m)\n",
      "File \u001b[1;32m~\\anaconda3\\Lib\\site-packages\\numpy\\lib\\function_base.py:2372\u001b[0m, in \u001b[0;36mvectorize.__call__\u001b[1;34m(self, *args, **kwargs)\u001b[0m\n\u001b[0;32m   2369\u001b[0m     \u001b[38;5;28mself\u001b[39m\u001b[38;5;241m.\u001b[39m_init_stage_2(\u001b[38;5;241m*\u001b[39margs, \u001b[38;5;241m*\u001b[39m\u001b[38;5;241m*\u001b[39mkwargs)\n\u001b[0;32m   2370\u001b[0m     \u001b[38;5;28;01mreturn\u001b[39;00m \u001b[38;5;28mself\u001b[39m\n\u001b[1;32m-> 2372\u001b[0m \u001b[38;5;28;01mreturn\u001b[39;00m \u001b[38;5;28mself\u001b[39m\u001b[38;5;241m.\u001b[39m_call_as_normal(\u001b[38;5;241m*\u001b[39margs, \u001b[38;5;241m*\u001b[39m\u001b[38;5;241m*\u001b[39mkwargs)\n",
      "File \u001b[1;32m~\\anaconda3\\Lib\\site-packages\\numpy\\lib\\function_base.py:2365\u001b[0m, in \u001b[0;36mvectorize._call_as_normal\u001b[1;34m(self, *args, **kwargs)\u001b[0m\n\u001b[0;32m   2362\u001b[0m     vargs \u001b[38;5;241m=\u001b[39m [args[_i] \u001b[38;5;28;01mfor\u001b[39;00m _i \u001b[38;5;129;01min\u001b[39;00m inds]\n\u001b[0;32m   2363\u001b[0m     vargs\u001b[38;5;241m.\u001b[39mextend([kwargs[_n] \u001b[38;5;28;01mfor\u001b[39;00m _n \u001b[38;5;129;01min\u001b[39;00m names])\n\u001b[1;32m-> 2365\u001b[0m \u001b[38;5;28;01mreturn\u001b[39;00m \u001b[38;5;28mself\u001b[39m\u001b[38;5;241m.\u001b[39m_vectorize_call(func\u001b[38;5;241m=\u001b[39mfunc, args\u001b[38;5;241m=\u001b[39mvargs)\n",
      "File \u001b[1;32m~\\anaconda3\\Lib\\site-packages\\numpy\\lib\\function_base.py:2455\u001b[0m, in \u001b[0;36mvectorize._vectorize_call\u001b[1;34m(self, func, args)\u001b[0m\n\u001b[0;32m   2452\u001b[0m \u001b[38;5;66;03m# Convert args to object arrays first\u001b[39;00m\n\u001b[0;32m   2453\u001b[0m inputs \u001b[38;5;241m=\u001b[39m [asanyarray(a, dtype\u001b[38;5;241m=\u001b[39m\u001b[38;5;28mobject\u001b[39m) \u001b[38;5;28;01mfor\u001b[39;00m a \u001b[38;5;129;01min\u001b[39;00m args]\n\u001b[1;32m-> 2455\u001b[0m outputs \u001b[38;5;241m=\u001b[39m ufunc(\u001b[38;5;241m*\u001b[39minputs)\n\u001b[0;32m   2457\u001b[0m \u001b[38;5;28;01mif\u001b[39;00m ufunc\u001b[38;5;241m.\u001b[39mnout \u001b[38;5;241m==\u001b[39m \u001b[38;5;241m1\u001b[39m:\n\u001b[0;32m   2458\u001b[0m     res \u001b[38;5;241m=\u001b[39m asanyarray(outputs, dtype\u001b[38;5;241m=\u001b[39motypes[\u001b[38;5;241m0\u001b[39m])\n",
      "Cell \u001b[1;32mIn[51], line 3\u001b[0m, in \u001b[0;36mfunctional_integration\u001b[1;34m(z, a1, a2, b1, b2)\u001b[0m\n\u001b[0;32m      1\u001b[0m \u001b[38;5;28;01mdef\u001b[39;00m \u001b[38;5;21mfunctional_integration\u001b[39m(z, a1, a2, b1, b2):\n\u001b[0;32m      2\u001b[0m     \u001b[38;5;66;03m# Use quad with scalar z, converting array inputs to floats\u001b[39;00m\n\u001b[1;32m----> 3\u001b[0m     result, _ \u001b[38;5;241m=\u001b[39m quad(\u001b[38;5;28;01mlambda\u001b[39;00m s: integral(s, \u001b[38;5;28mfloat\u001b[39m(z), a1, a2, b1, b2), \u001b[38;5;241m0\u001b[39m, \u001b[38;5;28mfloat\u001b[39m(z))\n\u001b[0;32m      4\u001b[0m     \u001b[38;5;28;01mreturn\u001b[39;00m result\n",
      "File \u001b[1;32m~\\anaconda3\\Lib\\site-packages\\scipy\\integrate\\_quadpack_py.py:459\u001b[0m, in \u001b[0;36mquad\u001b[1;34m(func, a, b, args, full_output, epsabs, epsrel, limit, points, weight, wvar, wopts, maxp1, limlst, complex_func)\u001b[0m\n\u001b[0;32m    456\u001b[0m     \u001b[38;5;28;01mreturn\u001b[39;00m retval\n\u001b[0;32m    458\u001b[0m \u001b[38;5;28;01mif\u001b[39;00m weight \u001b[38;5;129;01mis\u001b[39;00m \u001b[38;5;28;01mNone\u001b[39;00m:\n\u001b[1;32m--> 459\u001b[0m     retval \u001b[38;5;241m=\u001b[39m _quad(func, a, b, args, full_output, epsabs, epsrel, limit,\n\u001b[0;32m    460\u001b[0m                    points)\n\u001b[0;32m    461\u001b[0m \u001b[38;5;28;01melse\u001b[39;00m:\n\u001b[0;32m    462\u001b[0m     \u001b[38;5;28;01mif\u001b[39;00m points \u001b[38;5;129;01mis\u001b[39;00m \u001b[38;5;129;01mnot\u001b[39;00m \u001b[38;5;28;01mNone\u001b[39;00m:\n",
      "File \u001b[1;32m~\\anaconda3\\Lib\\site-packages\\scipy\\integrate\\_quadpack_py.py:606\u001b[0m, in \u001b[0;36m_quad\u001b[1;34m(func, a, b, args, full_output, epsabs, epsrel, limit, points)\u001b[0m\n\u001b[0;32m    604\u001b[0m \u001b[38;5;28;01mif\u001b[39;00m points \u001b[38;5;129;01mis\u001b[39;00m \u001b[38;5;28;01mNone\u001b[39;00m:\n\u001b[0;32m    605\u001b[0m     \u001b[38;5;28;01mif\u001b[39;00m infbounds \u001b[38;5;241m==\u001b[39m \u001b[38;5;241m0\u001b[39m:\n\u001b[1;32m--> 606\u001b[0m         \u001b[38;5;28;01mreturn\u001b[39;00m _quadpack\u001b[38;5;241m.\u001b[39m_qagse(func,a,b,args,full_output,epsabs,epsrel,limit)\n\u001b[0;32m    607\u001b[0m     \u001b[38;5;28;01melse\u001b[39;00m:\n\u001b[0;32m    608\u001b[0m         \u001b[38;5;28;01mreturn\u001b[39;00m _quadpack\u001b[38;5;241m.\u001b[39m_qagie(func, bound, infbounds, args, full_output, \n\u001b[0;32m    609\u001b[0m                                 epsabs, epsrel, limit)\n",
      "\u001b[1;31mTypeError\u001b[0m: only length-1 arrays can be converted to Python scalars"
     ]
    }
   ],
   "source": [
    "solutions = random_restarts_optimization(huber_loss, depth, M_obs, bounds, n_restarts=10)\n",
    "print(\"Multiple solutions found:\", solutions)"
   ]
  },
  {
   "cell_type": "code",
   "execution_count": null,
   "id": "5ea95727-3e89-472d-842e-68b5a1173f04",
   "metadata": {},
   "outputs": [],
   "source": []
  }
 ],
 "metadata": {
  "kernelspec": {
   "display_name": "Python 3 (ipykernel)",
   "language": "python",
   "name": "python3"
  },
  "language_info": {
   "codemirror_mode": {
    "name": "ipython",
    "version": 3
   },
   "file_extension": ".py",
   "mimetype": "text/x-python",
   "name": "python",
   "nbconvert_exporter": "python",
   "pygments_lexer": "ipython3",
   "version": "3.12.3"
  }
 },
 "nbformat": 4,
 "nbformat_minor": 5
}
