{
 "cells": [
  {
   "cell_type": "code",
   "execution_count": 2,
   "id": "9c6313b8-3f28-457b-9420-e9e85ead72a6",
   "metadata": {},
   "outputs": [],
   "source": [
    "import numpy as np\n",
    "from scipy.integrate import quad\n",
    "from numpy import exp\n",
    "from numpy import sin\n",
    "from numpy import tanh\n",
    "from scipy.optimize import minimize"
   ]
  },
  {
   "cell_type": "code",
   "execution_count": 3,
   "id": "99a10c98-b2b6-4ad2-97d3-efd12aff0d6f",
   "metadata": {},
   "outputs": [],
   "source": [
    "def get_lock_depth_from_params(params):\n",
    "    a1,a2,b1,b2 = params\n",
    "    lock_in_depth = [(b1-2)/a1,(b1+2)/a1,(b2-2)/a2,(b2+2)/a2]\n",
    "    return lock_in_depth"
   ]
  },
  {
   "cell_type": "code",
   "execution_count": 4,
   "id": "0007a09a-87b8-496b-8408-dc5e53cd9742",
   "metadata": {},
   "outputs": [],
   "source": [
    "def get_params_from_depths(lock_in_depth):\n",
    "    l0,l1,l2,l3 = lock_in_depth\n",
    "    params = [4/(l1-l0),4/(l3-l2),2*(l1+l0)/(l1-l0),2*(l3+l2)/(l3-l2)]\n",
    "    return params"
   ]
  },
  {
   "cell_type": "code",
   "execution_count": null,
   "id": "8e725192-cc18-4e9c-8a34-657e60f3cb62",
   "metadata": {},
   "outputs": [],
   "source": []
  },
  {
   "cell_type": "code",
   "execution_count": 1,
   "id": "040fa8bc-5a3e-49ca-b166-5649b329a2eb",
   "metadata": {},
   "outputs": [
    {
     "name": "stdout",
     "output_type": "stream",
     "text": [
      "Iteration: 1\n",
      "Iteration: 2\n",
      "Iteration: 3\n"
     ]
    },
    {
     "name": "stderr",
     "output_type": "stream",
     "text": [
      "\n",
      "KeyboardInterrupt\n",
      "\n"
     ]
    }
   ],
   "source": [
    "\n",
    "\n",
    "def e(z):\n",
    "    #return 1-fraction_data[np.where(depth == z)[0]]\n",
    "    return sin(z*16+1.5)/2 + 0.5\n",
    "\n",
    "def H(z):\n",
    "    # Ensure z is treated properly, even if it's an array\n",
    "    return -np.tanh(((c2 + c1) * (z - (c2 + c1) / 2)) / (c2 - c1))\n",
    "\n",
    "def l_diff(z, s, a1, b1, a2, b2):\n",
    "    term1 = (a1 * np.exp(-a1 * s + b1)) / (1 + np.exp(-a1 * s + b1))**2\n",
    "    term2 = (a2 * np.exp(-a2 * s + b2)) / (1 + np.exp(-a2 * s + b2))**2\n",
    "    return e(z) * term1 + (1 - e(z)) * term2\n",
    "\n",
    "def integral(s, z, a1, a2, b1, b2):\n",
    "    # Convert z to float to ensure scalar use in quad\n",
    "    return H(float(z) - s) * l_diff(float(z), s, a1, b1, a2, b2)\n",
    "\n",
    "def functional_integration(z, a1, a2, b1, b2):\n",
    "    # Use quad with scalar z, converting array inputs to floats\n",
    "    result, _ = quad(lambda s: integral(s, float(z), a1, a2, b1, b2), 0, float(z))\n",
    "    return result\n",
    "\n",
    "# Vectorized version of get_magnetisation\n",
    "def get_magnetisation(z, params):\n",
    "    a1, a2, b1, b2 = params\n",
    "    \n",
    "    # Vectorize the integration function to handle array inputs\n",
    "    vec_func_integration = np.vectorize(functional_integration)\n",
    "    M = vec_func_integration(z, a1, a2, b1, b2)\n",
    "    \n",
    "    return np.tanh(M * 10**3)\n",
    "\n",
    "def huber_loss(params, z_data, M_obs, delta=1.0):\n",
    "    # Compute predicted magnetization\n",
    "    M_pred = get_magnetisation(z_data, params)\n",
    "    \n",
    "    # Compute the residuals\n",
    "    residuals = M_obs - M_pred\n",
    "    \n",
    "    # Compute Huber loss\n",
    "    loss = np.where(np.abs(residuals) <= delta,\n",
    "                    0.5 * residuals ** 2,\n",
    "                    delta * (np.abs(residuals) - 0.5 * delta))\n",
    "    \n",
    "    return np.mean(loss)\n",
    "\n",
    "def random_restarts_optimization(loss_function, z_data, M_obs, bounds, n_restarts=10):\n",
    "    solutions = []\n",
    "    for i in range(n_restarts):\n",
    "        # Generate a random initial guess within the bounds\n",
    "        random_initial = [np.random.uniform(low, high) for low, high in bounds]\n",
    "        \n",
    "        # Minimize the loss function\n",
    "        result = minimize(loss_function, random_initial, args=(z_data, M_obs), method='L-BFGS-B', bounds=bounds)\n",
    "        solutions.append(result.x)\n",
    "        \n",
    "        print(f\"Iteration: {i+1}\")\n",
    "    \n",
    "    return solutions\n",
    "\n",
    "c1 = 73\n",
    "c2 = 74.5\n",
    "'''\n",
    "depth = np.linspace(0.1,10,70)\n",
    "\n",
    "params = get_params_from_depths([0.4,1,1.2,3.2])\n",
    "M_obs = get_magnetisation(depth,params)\n",
    "'''\n",
    "_ , fraction_data = np.loadtxt('ez.txt', unpack = True)\n",
    "\n",
    "polarity = np.loadtxt('Kuldara_polarity for Dima.txt')\n",
    "M_obs = polarity[np.logical_not(np.logical_and(polarity[:,1]>-45,polarity[:,1]<45))]\n",
    "\n",
    "depth, M_obs = M_obs[:,0],M_obs[:,1]\n",
    "\n",
    "M_obs[M_obs > 0] = 1.\n",
    "M_obs[M_obs < 0] = -1.\n",
    "\n",
    "M_obs = np.array(M_obs)\n",
    "depth = np.array(depth)\n",
    "\n",
    "bounds = [(3., 7.),  # a1\n",
    "          (0.5, 3.),  # a2\n",
    "          (2.5, 4.8),    # b1\n",
    "          (3., 5.)]    # b2\n",
    "\n",
    "solutions = random_restarts_optimization(huber_loss, depth, M_obs, bounds, n_restarts=10)"
   ]
  }
 ],
 "metadata": {
  "kernelspec": {
   "display_name": "Python 3 (ipykernel)",
   "language": "python",
   "name": "python3"
  },
  "language_info": {
   "codemirror_mode": {
    "name": "ipython",
    "version": 3
   },
   "file_extension": ".py",
   "mimetype": "text/x-python",
   "name": "python",
   "nbconvert_exporter": "python",
   "pygments_lexer": "ipython3",
   "version": "3.12.3"
  }
 },
 "nbformat": 4,
 "nbformat_minor": 5
}
