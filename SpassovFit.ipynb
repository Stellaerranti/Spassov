{
 "cells": [
  {
   "cell_type": "code",
   "execution_count": 1,
   "id": "9e2b5187-a0d7-4684-a4c9-c128ad8482e5",
   "metadata": {},
   "outputs": [],
   "source": [
    "import matplotlib.pyplot as plt\n",
    "import numpy as np\n",
    "from scipy.integrate import quad\n",
    "from scipy.optimize import curve_fit\n",
    "from numpy import exp\n",
    "from numpy import sin\n",
    "from numpy import tanh"
   ]
  },
  {
   "cell_type": "code",
   "execution_count": 44,
   "id": "9269e887-4925-4fe1-8197-c7abdc734a33",
   "metadata": {},
   "outputs": [],
   "source": [
    "def e(z):\n",
    "    #return sin(z*5)/2 + 0.5\n",
    "    return 1-fraction_data[np.where(depth == z)[0]]"
   ]
  },
  {
   "cell_type": "code",
   "execution_count": 10,
   "id": "ca76dfc1-0d8d-4a4d-9628-68b23b47a29c",
   "metadata": {},
   "outputs": [],
   "source": [
    "def H(z,c1,c2):\n",
    "    return -tanh(((c2+c1)*(z-(c2+c1)/2))/(c2-c1))"
   ]
  },
  {
   "cell_type": "code",
   "execution_count": 4,
   "id": "f1fef35b-3eb2-4884-b6cf-0c5c7888e119",
   "metadata": {},
   "outputs": [],
   "source": [
    "def l (z,s,a1,b1,a2,b2):\n",
    "    return e(z)/(1+exp(-a1*s+b1)) + (1-e(z))/(1+exp(-a2*s+b2))"
   ]
  },
  {
   "cell_type": "code",
   "execution_count": 5,
   "id": "5c02742c-5326-4f99-ac0a-1fbc6f25e023",
   "metadata": {},
   "outputs": [],
   "source": [
    "def l_diff(z,s,a1,b1,a2,b2):\n",
    "    return e(z) * (a1*exp(-a1*s+b1))/(1+exp(-a1*s+b1))**2 + (1-e(z)) * (a2*exp(-a2*s+b2))/(1+exp(-a2*s+b2))**2 "
   ]
  },
  {
   "cell_type": "code",
   "execution_count": 11,
   "id": "2c9c4f47-700a-4ae8-ab1a-33214cd65cfb",
   "metadata": {},
   "outputs": [],
   "source": [
    "def integral(s,z,a1,a2,b1,b2,c1,c2):\n",
    "    return H(z-s,c1,c2)*l_diff(z,s,a1,b1,a2,b2)"
   ]
  },
  {
   "cell_type": "code",
   "execution_count": 12,
   "id": "99e7f5d2-bf66-47b6-be93-4cb12ee474d7",
   "metadata": {},
   "outputs": [],
   "source": [
    "def functional_integration(z,a1,a2,b1,b2,c1,c2):        \n",
    "    return quad(integral, 0, z, args=(z,a1,a2,b1,b2,c1,c2))[0]"
   ]
  },
  {
   "cell_type": "code",
   "execution_count": 13,
   "id": "b28c347c-f658-4c97-b276-5f378afbd5ec",
   "metadata": {},
   "outputs": [],
   "source": [
    "def get_magnetisation(z,a1,a2,b1,b2,c1,c2):\n",
    "    vec_expint = np.vectorize(functional_integration)\n",
    "    M = vec_expint(z,a1,a2,b1,b2,c1,c2)\n",
    "    M[M > 0] = 1\n",
    "    M[M < 0] = -1\n",
    "    return M"
   ]
  },
  {
   "cell_type": "code",
   "execution_count": 14,
   "id": "cde662c7-dc46-435b-8aed-bc8fb112cfc0",
   "metadata": {},
   "outputs": [],
   "source": [
    "#c1 = 3\n",
    "#c2 = 5"
   ]
  },
  {
   "cell_type": "code",
   "execution_count": 55,
   "id": "1c29c655-6b56-4715-a0be-70c4ba0276c6",
   "metadata": {},
   "outputs": [],
   "source": [
    "depth , fraction_data = np.loadtxt('ez.txt', unpack = True)"
   ]
  },
  {
   "cell_type": "code",
   "execution_count": 56,
   "id": "36ab92e3-ce41-468f-b4d0-2306be99fdc9",
   "metadata": {},
   "outputs": [],
   "source": [
    "_, polarity = np.loadtxt('Kuldara_polarity for Dima.txt', unpack = True)"
   ]
  },
  {
   "cell_type": "code",
   "execution_count": 57,
   "id": "4b7d768f-6976-4192-bc88-57506c065cb9",
   "metadata": {},
   "outputs": [],
   "source": [
    "polarity[polarity>0] = 1\n",
    "polarity[polarity<0]=-1"
   ]
  },
  {
   "cell_type": "code",
   "execution_count": null,
   "id": "b0931330-2d73-4009-ad91-bc151027e297",
   "metadata": {},
   "outputs": [
    {
     "name": "stderr",
     "output_type": "stream",
     "text": [
      "C:\\Users\\Дмитрий\\AppData\\Local\\Temp\\ipykernel_21288\\4051760233.py:2: RuntimeWarning: divide by zero encountered in scalar divide\n",
      "  return -tanh(((c2+c1)*(z-(c2+c1)/2))/(c2-c1))\n"
     ]
    }
   ],
   "source": [
    "popt, pcov = curve_fit(get_magnetisation, depth, polarity)\n",
    "perr = np.sqrt(np.diag(pcov))"
   ]
  },
  {
   "cell_type": "code",
   "execution_count": null,
   "id": "0bd4c40e-c9a9-47c6-9db0-2b3c62c5e66a",
   "metadata": {},
   "outputs": [],
   "source": []
  }
 ],
 "metadata": {
  "kernelspec": {
   "display_name": "Python 3 (ipykernel)",
   "language": "python",
   "name": "python3"
  },
  "language_info": {
   "codemirror_mode": {
    "name": "ipython",
    "version": 3
   },
   "file_extension": ".py",
   "mimetype": "text/x-python",
   "name": "python",
   "nbconvert_exporter": "python",
   "pygments_lexer": "ipython3",
   "version": "3.11.7"
  }
 },
 "nbformat": 4,
 "nbformat_minor": 5
}
