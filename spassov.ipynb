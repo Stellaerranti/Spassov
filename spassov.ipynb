{
 "cells": [
  {
   "cell_type": "code",
   "execution_count": 2,
   "id": "f4d92923-b04d-4d16-9fdc-1e8508325054",
   "metadata": {},
   "outputs": [],
   "source": [
    "import matplotlib.pyplot as plt\n",
    "import numpy as np\n",
    "from scipy.integrate import quad\n",
    "from scipy.optimize import curve_fit\n",
    "from numpy import exp\n",
    "from numpy import sin\n",
    "from numpy import tanh\n"
   ]
  },
  {
   "cell_type": "code",
   "execution_count": 3,
   "id": "10555164-d22f-4739-8d89-3577a08803d8",
   "metadata": {},
   "outputs": [],
   "source": [
    "def e(z):\n",
    "    #return 0.4\n",
    "    #return sin(z*10)/2 + 0.5\n",
    "    return 1-fraction_data[np.where(depth == z)[0]]"
   ]
  },
  {
   "cell_type": "code",
   "execution_count": 4,
   "id": "2dfb21e9-746a-48d7-9f97-55f8412ddff8",
   "metadata": {},
   "outputs": [],
   "source": [
    "def H(z):\n",
    "    return -tanh(((c2+c1)*(z-(c2+c1)/2))/(c2-c1))"
   ]
  },
  {
   "cell_type": "code",
   "execution_count": 5,
   "id": "04085bcf-955a-4438-a06b-8810a7520ce3",
   "metadata": {},
   "outputs": [],
   "source": [
    "def l (z,s,a1,b1,a2,b2):\n",
    "    return e(z)/(1+exp(-a1*s+b1)) + (1-e(z))/(1+exp(-a2*s+b2))"
   ]
  },
  {
   "cell_type": "code",
   "execution_count": 6,
   "id": "de133eb6-bb7f-4cbb-842b-d395b267a69b",
   "metadata": {},
   "outputs": [],
   "source": [
    "def l_diff(z,s,a1,b1,a2,b2):\n",
    "    return e(z) * (a1*exp(-a1*s+b1))/(1+exp(-a1*s+b1))**2 + (1-e(z)) * (a2*exp(-a2*s+b2))/(1+exp(-a2*s+b2))**2 "
   ]
  },
  {
   "cell_type": "code",
   "execution_count": 7,
   "id": "b0d1d967-9c6e-4290-b2df-75e3e377a8eb",
   "metadata": {},
   "outputs": [],
   "source": [
    "def integral(s,z,a1,a2,b1,b2):\n",
    "    return H(z-s)*l_diff(z,s,a1,b1,a2,b2)"
   ]
  },
  {
   "cell_type": "code",
   "execution_count": 8,
   "id": "4c6922e2-192f-4efa-b1ea-a2c920d18dd5",
   "metadata": {},
   "outputs": [],
   "source": [
    "def functional_integration(z,a1,a2,b1,b2):        \n",
    "    return quad(integral, 0, z, args=(z,a1,a2,b1,b2))[0]"
   ]
  },
  {
   "cell_type": "code",
   "execution_count": 16,
   "id": "1c02d6fc-1746-4d6d-89fb-6ec134abb891",
   "metadata": {},
   "outputs": [],
   "source": [
    "def get_magnetisation(z,params):\n",
    "\n",
    "    a1,a2,b1,b2 = params\n",
    "    \n",
    "    vec_expint = np.vectorize(functional_integration)\n",
    "    M = vec_expint(z,a1,a2,b1,b2)\n",
    "    \n",
    "    return tanh(M*10**3)\n",
    "    #return M"
   ]
  },
  {
   "cell_type": "code",
   "execution_count": 12,
   "id": "e2bab7ae-afc8-49fc-93c2-231192616066",
   "metadata": {},
   "outputs": [],
   "source": [
    "def hinge_loss(M, M_observed):\n",
    "    # Вычисление hinge loss\n",
    "    return np.mean(np.maximum(0, 1 - M * M_observed))"
   ]
  },
  {
   "cell_type": "code",
   "execution_count": 13,
   "id": "485a4823-ac2b-4b13-bb51-d2174f06b51d",
   "metadata": {},
   "outputs": [],
   "source": [
    "def smoothness_penalty(M, M_observed, weight=0.5):\n",
    "    # Вычисление штрафа за изменения между соседними значениями\n",
    "    diff = np.diff(M)\n",
    "    diff_observed = np.diff(M_observed)\n",
    "    penalty = np.mean((diff - diff_observed) ** 2)\n",
    "    return weight * penalty"
   ]
  },
  {
   "cell_type": "code",
   "execution_count": 14,
   "id": "0689ddd2-a7ac-4aa2-bb90-cb2d5dc82ce1",
   "metadata": {},
   "outputs": [],
   "source": [
    "def combined_loss(M, M_observed, weight=0.5):\n",
    "    # Объединенная функция потерь\n",
    "    return hinge_loss(M, M_observed) + smoothness_penalty(M, M_observed, weight)"
   ]
  },
  {
   "cell_type": "code",
   "execution_count": null,
   "id": "7e5504a8-86cb-42c0-8e6b-ef76ae880e84",
   "metadata": {},
   "outputs": [],
   "source": [
    "def gradient_descent_with_momentum(observed_values,  x_values, params, learning_rate=0.01, iterations=1000, weight=0.5, momentum=0.9):\n",
    "    # Инициализация момента\n",
    "    velocity = np.zeros_like(params)\n",
    "    \n",
    "    for i in range(iterations):\n",
    "        # Вычисляем значения функций f и g в точках x\n",
    "        \n",
    "        modeled_values = get_magnetisation(x_values, params)\n",
    "        \n",
    "        # Вычисляем текущую ошибку\n",
    "        loss = combined_loss(modeled_values, observed_values, weight)\n",
    "        \n",
    "        # Вычисляем градиент ошибки по каждому параметру\n",
    "        gradients = np.zeros_like(params)\n",
    "        for j in range(len(params)):\n",
    "            params_shifted = np.copy(params)\n",
    "            params_shifted[j] += 1e-5\n",
    "            values_shifted = get_magnetisation(x_values, params_shifted)\n",
    "            loss_shifted = combined_loss(values_shifted, observed_values, weight)\n",
    "            gradients[j] = (loss_shifted - loss) / 1e-5\n",
    "        \n",
    "        # Обновляем момент и параметры\n",
    "        velocity = momentum * velocity - learning_rate * gradients\n",
    "        params += velocity\n",
    "        \n",
    "        # Выводим прогресс\n",
    "        if i % 100 == 0 and i != 0:\n",
    "            print(f\"Iteration {i}: Loss = {loss}, Params = {params}\")\n",
    "    \n",
    "    return params"
   ]
  },
  {
   "cell_type": "code",
   "execution_count": 22,
   "id": "52678513-fc4d-4967-a446-f1b45c69cf86",
   "metadata": {},
   "outputs": [],
   "source": [
    "depth , fraction_data = np.loadtxt('ez.txt', unpack = True)"
   ]
  },
  {
   "cell_type": "code",
   "execution_count": 21,
   "id": "99d00cf4-4253-40a3-a644-d30b84bfa0c7",
   "metadata": {},
   "outputs": [],
   "source": [
    "#a1 = 8.9\n",
    "#a2 = 1.8\n",
    "#b1 = 5.6\n",
    "#b2 = 7.2\n",
    "\n",
    "c1 = 73\n",
    "c2 = 74.5\n"
   ]
  },
  {
   "cell_type": "code",
   "execution_count": 39,
   "id": "52497654-8577-448b-9b99-c76f01529d78",
   "metadata": {},
   "outputs": [],
   "source": [
    "params = [1.9,3.1,8.,5.]"
   ]
  },
  {
   "cell_type": "code",
   "execution_count": 23,
   "id": "93d9e87c-74c2-4c4b-b0cf-29083c8a2c2f",
   "metadata": {},
   "outputs": [
    {
     "data": {
      "text/plain": [
       "[<matplotlib.lines.Line2D at 0x285ab909ee0>]"
      ]
     },
     "execution_count": 23,
     "metadata": {},
     "output_type": "execute_result"
    },
    {
     "data": {
      "image/png": "[encoded data removed]",
      "text/plain": [
       "<Figure size 640x480 with 1 Axes>"
      ]
     },
     "metadata": {},
     "output_type": "display_data"
    }
   ],
   "source": [
    "M = get_magnetisation(depth,params)\n",
    "#M = get_magnetisation(depth,8.9,1.8,5.6,7.2)\n",
    "plt.plot(depth,M)"
   ]
  },
  {
   "cell_type": "code",
   "execution_count": 24,
   "id": "78a92ba5-b2a5-4049-b1f4-ca5337ca4849",
   "metadata": {},
   "outputs": [],
   "source": [
    "initial_guess = np.array([2., 3., 7., 5.])"
   ]
  },
  {
   "cell_type": "code",
   "execution_count": 43,
   "id": "4ad083c5-7569-4926-847c-d6c179bc5981",
   "metadata": {
    "scrolled": true
   },
   "outputs": [
    {
     "ename": "KeyboardInterrupt",
     "evalue": "",
     "output_type": "error",
     "traceback": [
      "\u001b[1;31m---------------------------------------------------------------------------\u001b[0m",
      "\u001b[1;31mKeyboardInterrupt\u001b[0m                         Traceback (most recent call last)",
      "Cell \u001b[1;32mIn[43], line 1\u001b[0m\n\u001b[1;32m----> 1\u001b[0m optimized_params \u001b[38;5;241m=\u001b[39m gradient_descent_with_momentum(fraction_data, depth, initial_guess, weight\u001b[38;5;241m=\u001b[39m\u001b[38;5;241m0.5\u001b[39m, momentum\u001b[38;5;241m=\u001b[39m\u001b[38;5;241m0.9\u001b[39m)\n",
      "Cell \u001b[1;32mIn[27], line 18\u001b[0m, in \u001b[0;36mgradient_descent_with_momentum\u001b[1;34m(observed_values, x_values, params, learning_rate, iterations, weight, momentum)\u001b[0m\n\u001b[0;32m     16\u001b[0m params_shifted \u001b[38;5;241m=\u001b[39m np\u001b[38;5;241m.\u001b[39mcopy(params)\n\u001b[0;32m     17\u001b[0m params_shifted[j] \u001b[38;5;241m+\u001b[39m\u001b[38;5;241m=\u001b[39m \u001b[38;5;241m1e-5\u001b[39m\n\u001b[1;32m---> 18\u001b[0m values_shifted \u001b[38;5;241m=\u001b[39m get_magnetisation(x_values, params_shifted)\n\u001b[0;32m     19\u001b[0m loss_shifted \u001b[38;5;241m=\u001b[39m combined_loss(values_shifted, observed_values, weight)\n\u001b[0;32m     20\u001b[0m gradients[j] \u001b[38;5;241m=\u001b[39m (loss_shifted \u001b[38;5;241m-\u001b[39m loss) \u001b[38;5;241m/\u001b[39m \u001b[38;5;241m1e-5\u001b[39m\n",
      "Cell \u001b[1;32mIn[16], line 6\u001b[0m, in \u001b[0;36mget_magnetisation\u001b[1;34m(z, params)\u001b[0m\n\u001b[0;32m      3\u001b[0m a1,a2,b1,b2 \u001b[38;5;241m=\u001b[39m params\n\u001b[0;32m      5\u001b[0m vec_expint \u001b[38;5;241m=\u001b[39m np\u001b[38;5;241m.\u001b[39mvectorize(functional_integration)\n\u001b[1;32m----> 6\u001b[0m M \u001b[38;5;241m=\u001b[39m vec_expint(z,a1,a2,b1,b2)\n\u001b[0;32m      8\u001b[0m \u001b[38;5;28;01mreturn\u001b[39;00m tanh(M\u001b[38;5;241m*\u001b[39m\u001b[38;5;241m10\u001b[39m\u001b[38;5;241m*\u001b[39m\u001b[38;5;241m*\u001b[39m\u001b[38;5;241m3\u001b[39m)\n",
      "File \u001b[1;32m~\\anaconda3\\Lib\\site-packages\\numpy\\lib\\function_base.py:2372\u001b[0m, in \u001b[0;36mvectorize.__call__\u001b[1;34m(self, *args, **kwargs)\u001b[0m\n\u001b[0;32m   2369\u001b[0m     \u001b[38;5;28mself\u001b[39m\u001b[38;5;241m.\u001b[39m_init_stage_2(\u001b[38;5;241m*\u001b[39margs, \u001b[38;5;241m*\u001b[39m\u001b[38;5;241m*\u001b[39mkwargs)\n\u001b[0;32m   2370\u001b[0m     \u001b[38;5;28;01mreturn\u001b[39;00m \u001b[38;5;28mself\u001b[39m\n\u001b[1;32m-> 2372\u001b[0m \u001b[38;5;28;01mreturn\u001b[39;00m \u001b[38;5;28mself\u001b[39m\u001b[38;5;241m.\u001b[39m_call_as_normal(\u001b[38;5;241m*\u001b[39margs, \u001b[38;5;241m*\u001b[39m\u001b[38;5;241m*\u001b[39mkwargs)\n",
      "File \u001b[1;32m~\\anaconda3\\Lib\\site-packages\\numpy\\lib\\function_base.py:2365\u001b[0m, in \u001b[0;36mvectorize._call_as_normal\u001b[1;34m(self, *args, **kwargs)\u001b[0m\n\u001b[0;32m   2362\u001b[0m     vargs \u001b[38;5;241m=\u001b[39m [args[_i] \u001b[38;5;28;01mfor\u001b[39;00m _i \u001b[38;5;129;01min\u001b[39;00m inds]\n\u001b[0;32m   2363\u001b[0m     vargs\u001b[38;5;241m.\u001b[39mextend([kwargs[_n] \u001b[38;5;28;01mfor\u001b[39;00m _n \u001b[38;5;129;01min\u001b[39;00m names])\n\u001b[1;32m-> 2365\u001b[0m \u001b[38;5;28;01mreturn\u001b[39;00m \u001b[38;5;28mself\u001b[39m\u001b[38;5;241m.\u001b[39m_vectorize_call(func\u001b[38;5;241m=\u001b[39mfunc, args\u001b[38;5;241m=\u001b[39mvargs)\n",
      "File \u001b[1;32m~\\anaconda3\\Lib\\site-packages\\numpy\\lib\\function_base.py:2455\u001b[0m, in \u001b[0;36mvectorize._vectorize_call\u001b[1;34m(self, func, args)\u001b[0m\n\u001b[0;32m   2452\u001b[0m \u001b[38;5;66;03m# Convert args to object arrays first\u001b[39;00m\n\u001b[0;32m   2453\u001b[0m inputs \u001b[38;5;241m=\u001b[39m [asanyarray(a, dtype\u001b[38;5;241m=\u001b[39m\u001b[38;5;28mobject\u001b[39m) \u001b[38;5;28;01mfor\u001b[39;00m a \u001b[38;5;129;01min\u001b[39;00m args]\n\u001b[1;32m-> 2455\u001b[0m outputs \u001b[38;5;241m=\u001b[39m ufunc(\u001b[38;5;241m*\u001b[39minputs)\n\u001b[0;32m   2457\u001b[0m \u001b[38;5;28;01mif\u001b[39;00m ufunc\u001b[38;5;241m.\u001b[39mnout \u001b[38;5;241m==\u001b[39m \u001b[38;5;241m1\u001b[39m:\n\u001b[0;32m   2458\u001b[0m     res \u001b[38;5;241m=\u001b[39m asanyarray(outputs, dtype\u001b[38;5;241m=\u001b[39motypes[\u001b[38;5;241m0\u001b[39m])\n",
      "Cell \u001b[1;32mIn[8], line 2\u001b[0m, in \u001b[0;36mfunctional_integration\u001b[1;34m(z, a1, a2, b1, b2)\u001b[0m\n\u001b[0;32m      1\u001b[0m \u001b[38;5;28;01mdef\u001b[39;00m \u001b[38;5;21mfunctional_integration\u001b[39m(z,a1,a2,b1,b2):        \n\u001b[1;32m----> 2\u001b[0m     \u001b[38;5;28;01mreturn\u001b[39;00m quad(integral, \u001b[38;5;241m0\u001b[39m, z, args\u001b[38;5;241m=\u001b[39m(z,a1,a2,b1,b2))[\u001b[38;5;241m0\u001b[39m]\n",
      "File \u001b[1;32m~\\anaconda3\\Lib\\site-packages\\scipy\\integrate\\_quadpack_py.py:459\u001b[0m, in \u001b[0;36mquad\u001b[1;34m(func, a, b, args, full_output, epsabs, epsrel, limit, points, weight, wvar, wopts, maxp1, limlst, complex_func)\u001b[0m\n\u001b[0;32m    456\u001b[0m     \u001b[38;5;28;01mreturn\u001b[39;00m retval\n\u001b[0;32m    458\u001b[0m \u001b[38;5;28;01mif\u001b[39;00m weight \u001b[38;5;129;01mis\u001b[39;00m \u001b[38;5;28;01mNone\u001b[39;00m:\n\u001b[1;32m--> 459\u001b[0m     retval \u001b[38;5;241m=\u001b[39m _quad(func, a, b, args, full_output, epsabs, epsrel, limit,\n\u001b[0;32m    460\u001b[0m                    points)\n\u001b[0;32m    461\u001b[0m \u001b[38;5;28;01melse\u001b[39;00m:\n\u001b[0;32m    462\u001b[0m     \u001b[38;5;28;01mif\u001b[39;00m points \u001b[38;5;129;01mis\u001b[39;00m \u001b[38;5;129;01mnot\u001b[39;00m \u001b[38;5;28;01mNone\u001b[39;00m:\n",
      "File \u001b[1;32m~\\anaconda3\\Lib\\site-packages\\scipy\\integrate\\_quadpack_py.py:606\u001b[0m, in \u001b[0;36m_quad\u001b[1;34m(func, a, b, args, full_output, epsabs, epsrel, limit, points)\u001b[0m\n\u001b[0;32m    604\u001b[0m \u001b[38;5;28;01mif\u001b[39;00m points \u001b[38;5;129;01mis\u001b[39;00m \u001b[38;5;28;01mNone\u001b[39;00m:\n\u001b[0;32m    605\u001b[0m     \u001b[38;5;28;01mif\u001b[39;00m infbounds \u001b[38;5;241m==\u001b[39m \u001b[38;5;241m0\u001b[39m:\n\u001b[1;32m--> 606\u001b[0m         \u001b[38;5;28;01mreturn\u001b[39;00m _quadpack\u001b[38;5;241m.\u001b[39m_qagse(func,a,b,args,full_output,epsabs,epsrel,limit)\n\u001b[0;32m    607\u001b[0m     \u001b[38;5;28;01melse\u001b[39;00m:\n\u001b[0;32m    608\u001b[0m         \u001b[38;5;28;01mreturn\u001b[39;00m _quadpack\u001b[38;5;241m.\u001b[39m_qagie(func, bound, infbounds, args, full_output, \n\u001b[0;32m    609\u001b[0m                                 epsabs, epsrel, limit)\n",
      "Cell \u001b[1;32mIn[7], line 2\u001b[0m, in \u001b[0;36mintegral\u001b[1;34m(s, z, a1, a2, b1, b2)\u001b[0m\n\u001b[0;32m      1\u001b[0m \u001b[38;5;28;01mdef\u001b[39;00m \u001b[38;5;21mintegral\u001b[39m(s,z,a1,a2,b1,b2):\n\u001b[1;32m----> 2\u001b[0m     \u001b[38;5;28;01mreturn\u001b[39;00m H(z\u001b[38;5;241m-\u001b[39ms)\u001b[38;5;241m*\u001b[39ml_diff(z,s,a1,b1,a2,b2)\n",
      "Cell \u001b[1;32mIn[4], line 1\u001b[0m, in \u001b[0;36mH\u001b[1;34m(z)\u001b[0m\n\u001b[1;32m----> 1\u001b[0m \u001b[38;5;28;01mdef\u001b[39;00m \u001b[38;5;21mH\u001b[39m(z):\n\u001b[0;32m      2\u001b[0m     \u001b[38;5;28;01mreturn\u001b[39;00m \u001b[38;5;241m-\u001b[39mtanh(((c2\u001b[38;5;241m+\u001b[39mc1)\u001b[38;5;241m*\u001b[39m(z\u001b[38;5;241m-\u001b[39m(c2\u001b[38;5;241m+\u001b[39mc1)\u001b[38;5;241m/\u001b[39m\u001b[38;5;241m2\u001b[39m))\u001b[38;5;241m/\u001b[39m(c2\u001b[38;5;241m-\u001b[39mc1))\n",
      "\u001b[1;31mKeyboardInterrupt\u001b[0m: "
     ]
    }
   ],
   "source": [
    "optimized_params = gradient_descent_with_momentum(fraction_data, depth, initial_guess, weight=0.5, momentum=0.9)"
   ]
  },
  {
   "cell_type": "code",
   "execution_count": 40,
   "id": "3f1cc9ef-d2a2-4541-8ef6-e54bf9b22bb1",
   "metadata": {},
   "outputs": [],
   "source": [
    "optimized_params "
   ]
  },
  {
   "cell_type": "code",
   "execution_count": 35,
   "id": "3aef286e-e6f4-4146-aa4c-e84b9af53bca",
   "metadata": {},
   "outputs": [
    {
     "data": {
      "image/png": "[encoded data removed]",
      "text/plain": [
       "<Figure size 640x480 with 1 Axes>"
      ]
     },
     "metadata": {},
     "output_type": "display_data"
    }
   ],
   "source": [
    "plt.plot(depth,M,label = 'modeled')\n",
    "plt.plot(depth,get_magnetisation(depth,optimized_params),label = 'fit',linestyle = 'dashed')\n",
    "plt.legend()\n",
    "plt.savefig('test')\n",
    "plt.show()"
   ]
  },
  {
   "cell_type": "code",
   "execution_count": 41,
   "id": "b4f6e30c-bf36-495a-8389-24444e29d208",
   "metadata": {},
   "outputs": [
    {
     "ename": "ValueError",
     "evalue": "operands could not be broadcast together with shapes (0,) (212,) ",
     "output_type": "error",
     "traceback": [
      "\u001b[1;31m---------------------------------------------------------------------------\u001b[0m",
      "\u001b[1;31mValueError\u001b[0m                                Traceback (most recent call last)",
      "Cell \u001b[1;32mIn[41], line 1\u001b[0m\n\u001b[1;32m----> 1\u001b[0m l_initial \u001b[38;5;241m=\u001b[39m l(\u001b[38;5;241m4\u001b[39m,depth,params[\u001b[38;5;241m0\u001b[39m],params[\u001b[38;5;241m2\u001b[39m],params[\u001b[38;5;241m1\u001b[39m],params[\u001b[38;5;241m3\u001b[39m])\n\u001b[0;32m      2\u001b[0m l_fit \u001b[38;5;241m=\u001b[39m l(\u001b[38;5;241m4\u001b[39m,depth,optimized_params[\u001b[38;5;241m0\u001b[39m],optimized_params[\u001b[38;5;241m2\u001b[39m],optimized_params[\u001b[38;5;241m1\u001b[39m],optimized_params[\u001b[38;5;241m3\u001b[39m])\n\u001b[0;32m      4\u001b[0m plt\u001b[38;5;241m.\u001b[39mplot(depth,l_initial,label \u001b[38;5;241m=\u001b[39m \u001b[38;5;124m'\u001b[39m\u001b[38;5;124mmodeled\u001b[39m\u001b[38;5;124m'\u001b[39m)\n",
      "Cell \u001b[1;32mIn[5], line 2\u001b[0m, in \u001b[0;36ml\u001b[1;34m(z, s, a1, b1, a2, b2)\u001b[0m\n\u001b[0;32m      1\u001b[0m \u001b[38;5;28;01mdef\u001b[39;00m \u001b[38;5;21ml\u001b[39m (z,s,a1,b1,a2,b2):\n\u001b[1;32m----> 2\u001b[0m     \u001b[38;5;28;01mreturn\u001b[39;00m e(z)\u001b[38;5;241m/\u001b[39m(\u001b[38;5;241m1\u001b[39m\u001b[38;5;241m+\u001b[39mexp(\u001b[38;5;241m-\u001b[39ma1\u001b[38;5;241m*\u001b[39ms\u001b[38;5;241m+\u001b[39mb1)) \u001b[38;5;241m+\u001b[39m (\u001b[38;5;241m1\u001b[39m\u001b[38;5;241m-\u001b[39me(z))\u001b[38;5;241m/\u001b[39m(\u001b[38;5;241m1\u001b[39m\u001b[38;5;241m+\u001b[39mexp(\u001b[38;5;241m-\u001b[39ma2\u001b[38;5;241m*\u001b[39ms\u001b[38;5;241m+\u001b[39mb2))\n",
      "\u001b[1;31mValueError\u001b[0m: operands could not be broadcast together with shapes (0,) (212,) "
     ]
    }
   ],
   "source": [
    "l_initial = l(4,depth,params[0],params[2],params[1],params[3])\n",
    "l_fit = l(4,depth,optimized_params[0],optimized_params[2],optimized_params[1],optimized_params[3])\n",
    "\n",
    "plt.plot(depth,l_initial,label = 'modeled')\n",
    "plt.plot(depth,l_fit,label = 'fit',linestyle = 'dashed')\n",
    "plt.legend()\n",
    "plt.savefig('test_lock-in')\n",
    "plt.show()"
   ]
  },
  {
   "cell_type": "code",
   "execution_count": 42,
   "id": "324d95b8-b145-4701-b5ff-c0ef92ad3003",
   "metadata": {},
   "outputs": [
    {
     "data": {
      "text/plain": [
       "[1.9, 3.1, 8.0, 5.0]"
      ]
     },
     "execution_count": 42,
     "metadata": {},
     "output_type": "execute_result"
    }
   ],
   "source": []
  }
 ],
 "metadata": {
  "kernelspec": {
   "display_name": "Python 3 (ipykernel)",
   "language": "python",
   "name": "python3"
  },
  "language_info": {
   "codemirror_mode": {
    "name": "ipython",
    "version": 3
   },
   "file_extension": ".py",
   "mimetype": "text/x-python",
   "name": "python",
   "nbconvert_exporter": "python",
   "pygments_lexer": "ipython3",
   "version": "3.12.3"
  }
 },
 "nbformat": 4,
 "nbformat_minor": 5
}
