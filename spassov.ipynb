{
 "cells": [
  {
   "cell_type": "code",
   "execution_count": 4,
   "id": "f4d92923-b04d-4d16-9fdc-1e8508325054",
   "metadata": {},
   "outputs": [],
   "source": [
    "import matplotlib.pyplot as plt\n",
    "import numpy as np\n",
    "from scipy.integrate import quad\n",
    "from scipy.optimize import curve_fit\n",
    "from numpy import exp\n",
    "from numpy import sin\n",
    "from numpy import tanh\n"
   ]
  },
  {
   "cell_type": "code",
   "execution_count": 5,
   "id": "10555164-d22f-4739-8d89-3577a08803d8",
   "metadata": {},
   "outputs": [],
   "source": [
    "def e(z):\n",
    "    #return 0.4\n",
    "    #return sin(z*10)/2 + 0.5\n",
    "    return 1-fraction_data[np.where(depth == z)[0]]"
   ]
  },
  {
   "cell_type": "code",
   "execution_count": 6,
   "id": "2dfb21e9-746a-48d7-9f97-55f8412ddff8",
   "metadata": {},
   "outputs": [],
   "source": [
    "def H(z):\n",
    "    return -tanh(((c2+c1)*(z-(c2+c1)/2))/(c2-c1))"
   ]
  },
  {
   "cell_type": "code",
   "execution_count": 7,
   "id": "04085bcf-955a-4438-a06b-8810a7520ce3",
   "metadata": {},
   "outputs": [],
   "source": [
    "def l (z,s,a1,b1,a2,b2):\n",
    "    return e(z)/(1+exp(-a1*s+b1)) + (1-e(z))/(1+exp(-a2*s+b2))"
   ]
  },
  {
   "cell_type": "code",
   "execution_count": 8,
   "id": "de133eb6-bb7f-4cbb-842b-d395b267a69b",
   "metadata": {},
   "outputs": [],
   "source": [
    "def l_diff(z,s,a1,b1,a2,b2):\n",
    "    return e(z) * (a1*exp(-a1*s+b1))/(1+exp(-a1*s+b1))**2 + (1-e(z)) * (a2*exp(-a2*s+b2))/(1+exp(-a2*s+b2))**2 "
   ]
  },
  {
   "cell_type": "code",
   "execution_count": 9,
   "id": "b0d1d967-9c6e-4290-b2df-75e3e377a8eb",
   "metadata": {},
   "outputs": [],
   "source": [
    "def integral(s,z,a1,a2,b1,b2):\n",
    "    return H(z-s)*l_diff(z,s,a1,b1,a2,b2)"
   ]
  },
  {
   "cell_type": "code",
   "execution_count": 10,
   "id": "4c6922e2-192f-4efa-b1ea-a2c920d18dd5",
   "metadata": {},
   "outputs": [],
   "source": [
    "def functional_integration(z,a1,a2,b1,b2):        \n",
    "    return quad(integral, 0, z, args=(z,a1,a2,b1,b2))[0]"
   ]
  },
  {
   "cell_type": "code",
   "execution_count": 11,
   "id": "1c02d6fc-1746-4d6d-89fb-6ec134abb891",
   "metadata": {},
   "outputs": [],
   "source": [
    "def get_magnetisation(z,a1,a2,b1,b2):\n",
    "    vec_expint = np.vectorize(functional_integration)\n",
    "    M = vec_expint(z,a1,a2,b1,b2)\n",
    "    \n",
    "    return tanh(M*10**3)\n",
    "    #return M"
   ]
  },
  {
   "cell_type": "code",
   "execution_count": 12,
   "id": "590c49fe-6277-4e36-8a4a-3fef1a2a0a41",
   "metadata": {},
   "outputs": [],
   "source": [
    "def objective(params, z, M_observed):\n",
    "    a1, a2, b1, b2 = params\n",
    "    M = get_magnetisation(z, a1, a2, b1, b2)\n",
    "    return np.sum((M-M_observed)**2)"
   ]
  },
  {
   "cell_type": "code",
   "execution_count": 31,
   "id": "bb92580c-ff18-4521-9c8f-ba31f2610644",
   "metadata": {},
   "outputs": [],
   "source": [
    "def compute_gradient(params, z, M_observed, epsilon=1e-6):\n",
    "    grad = np.zeros_like(params)\n",
    "    for i in range(len(params)):\n",
    "        params_epsilon = np.array(params)\n",
    "        params_epsilon[i] += epsilon\n",
    "        loss1 = objective(params_epsilon, z, M_observed)\n",
    "        \n",
    "        params_epsilon[i] -= 2 * epsilon\n",
    "        loss2 = objective(params_epsilon, z, M_observed)\n",
    "        \n",
    "        grad[i] = (loss1 - loss2) / (2 * epsilon)\n",
    "    \n",
    "    return grad"
   ]
  },
  {
   "cell_type": "code",
   "execution_count": 37,
   "id": "41c82ba9-af47-4d25-bc32-509e040f0ded",
   "metadata": {},
   "outputs": [],
   "source": [
    "def gradient_descent(z, M_observed, initial_guess, learning_rate=0.01, tolerance=1e-6, max_iterations=1000):\n",
    "    params = np.array(initial_guess)\n",
    "    for iteration in range(max_iterations):\n",
    "        grad = compute_gradient(params, z, M_observed)\n",
    "        new_params = params - learning_rate * grad\n",
    "        \n",
    "        # Проверка на сходимость\n",
    "        if np.linalg.norm(new_params - params) < tolerance:\n",
    "            print(f\"Градиентный спуск сошелся за {iteration} итераций.\")\n",
    "            return new_params\n",
    "        \n",
    "        params = new_params\n",
    "    \n",
    "    print(\"Градиентный спуск не сошелся.\")\n",
    "    return params"
   ]
  },
  {
   "cell_type": "code",
   "execution_count": 15,
   "id": "52678513-fc4d-4967-a446-f1b45c69cf86",
   "metadata": {},
   "outputs": [],
   "source": [
    "depth , fraction_data = np.loadtxt('ez.txt', unpack = True)"
   ]
  },
  {
   "cell_type": "code",
   "execution_count": 16,
   "id": "99d00cf4-4253-40a3-a644-d30b84bfa0c7",
   "metadata": {},
   "outputs": [],
   "source": [
    "#a1 = 8.9\n",
    "#a2 = 1.8\n",
    "#b1 = 5.6\n",
    "#b2 = 7.2\n",
    "\n",
    "c1 = 73\n",
    "c2 = 74.5\n"
   ]
  },
  {
   "cell_type": "code",
   "execution_count": 17,
   "id": "93d9e87c-74c2-4c4b-b0cf-29083c8a2c2f",
   "metadata": {},
   "outputs": [
    {
     "data": {
      "text/plain": [
       "[<matplotlib.lines.Line2D at 0x2b507a30a50>]"
      ]
     },
     "execution_count": 17,
     "metadata": {},
     "output_type": "execute_result"
    },
    {
     "data": {
      "image/png": "[encoded data removed]",
      "text/plain": [
       "<Figure size 640x480 with 1 Axes>"
      ]
     },
     "metadata": {},
     "output_type": "display_data"
    }
   ],
   "source": [
    "M = get_magnetisation(depth,1.9,3.1,8,5)\n",
    "#M = get_magnetisation(depth,8.9,1.8,5.6,7.2)\n",
    "plt.plot(depth,M)"
   ]
  },
  {
   "cell_type": "code",
   "execution_count": 25,
   "id": "78a92ba5-b2a5-4049-b1f4-ca5337ca4849",
   "metadata": {},
   "outputs": [],
   "source": [
    "initial_guess = [2., 3., 7., 5.]"
   ]
  },
  {
   "cell_type": "code",
   "execution_count": 38,
   "id": "81fba2fe-1a25-40c0-9e35-23a7c847317b",
   "metadata": {},
   "outputs": [
    {
     "name": "stderr",
     "output_type": "stream",
     "text": [
      "C:\\Users\\Дмитрий\\AppData\\Local\\Temp\\ipykernel_30432\\2291846143.py:2: RuntimeWarning: overflow encountered in scalar power\n",
      "  return e(z) * (a1*exp(-a1*s+b1))/(1+exp(-a1*s+b1))**2 + (1-e(z)) * (a2*exp(-a2*s+b2))/(1+exp(-a2*s+b2))**2\n"
     ]
    },
    {
     "name": "stdout",
     "output_type": "stream",
     "text": [
      "Градиентный спуск сошелся за 1 итераций.\n"
     ]
    }
   ],
   "source": [
    "optimal_params = gradient_descent(depth, M, initial_guess)"
   ]
  },
  {
   "cell_type": "code",
   "execution_count": 39,
   "id": "cfe78fac-565d-4072-bbd7-6a0a86e39876",
   "metadata": {},
   "outputs": [
    {
     "data": {
      "text/plain": [
       "array([-5.49525739,  2.93675323,  9.29469838,  5.01159427])"
      ]
     },
     "execution_count": 39,
     "metadata": {},
     "output_type": "execute_result"
    }
   ],
   "source": [
    "optimal_params"
   ]
  },
  {
   "cell_type": "code",
   "execution_count": 35,
   "id": "3aef286e-e6f4-4146-aa4c-e84b9af53bca",
   "metadata": {},
   "outputs": [
    {
     "name": "stderr",
     "output_type": "stream",
     "text": [
      "C:\\Users\\Дмитрий\\AppData\\Local\\Temp\\ipykernel_30432\\2291846143.py:2: RuntimeWarning: overflow encountered in scalar power\n",
      "  return e(z) * (a1*exp(-a1*s+b1))/(1+exp(-a1*s+b1))**2 + (1-e(z)) * (a2*exp(-a2*s+b2))/(1+exp(-a2*s+b2))**2\n"
     ]
    },
    {
     "data": {
      "image/png": "[encoded data removed]",
      "text/plain": [
       "<Figure size 640x480 with 1 Axes>"
      ]
     },
     "metadata": {},
     "output_type": "display_data"
    }
   ],
   "source": [
    "plt.plot(depth,M,label = 'modeled')\n",
    "plt.plot(depth,get_magnetisation(depth,optimal_params[0],optimal_params[1],optimal_params[2],optimal_params[3]),label = 'fit',linestyle = 'dashed')\n",
    "plt.legend()\n",
    "plt.savefig('test')\n",
    "plt.show()"
   ]
  },
  {
   "cell_type": "code",
   "execution_count": 36,
   "id": "b4f6e30c-bf36-495a-8389-24444e29d208",
   "metadata": {},
   "outputs": [
    {
     "ename": "NameError",
     "evalue": "name 'z' is not defined",
     "output_type": "error",
     "traceback": [
      "\u001b[1;31m---------------------------------------------------------------------------\u001b[0m",
      "\u001b[1;31mNameError\u001b[0m                                 Traceback (most recent call last)",
      "Cell \u001b[1;32mIn[36], line 1\u001b[0m\n\u001b[1;32m----> 1\u001b[0m l_initial \u001b[38;5;241m=\u001b[39m l(\u001b[38;5;241m4\u001b[39m,z,\u001b[38;5;241m8.9\u001b[39m,\u001b[38;5;241m5.6\u001b[39m,\u001b[38;5;241m1.8\u001b[39m,\u001b[38;5;241m7.2\u001b[39m)\n\u001b[0;32m      2\u001b[0m l_fit \u001b[38;5;241m=\u001b[39m l(\u001b[38;5;241m4\u001b[39m,z,optimal_params[\u001b[38;5;241m0\u001b[39m],optimal_params[\u001b[38;5;241m2\u001b[39m],optimal_params[\u001b[38;5;241m1\u001b[39m],optimal_params[\u001b[38;5;241m3\u001b[39m])\n\u001b[0;32m      4\u001b[0m plt\u001b[38;5;241m.\u001b[39mplot(z,l_initial,label \u001b[38;5;241m=\u001b[39m \u001b[38;5;124m'\u001b[39m\u001b[38;5;124mmodeled\u001b[39m\u001b[38;5;124m'\u001b[39m)\n",
      "\u001b[1;31mNameError\u001b[0m: name 'z' is not defined"
     ]
    }
   ],
   "source": [
    "l_initial = l(4,z,8.9,5.6,1.8,7.2)\n",
    "l_fit = l(4,z,optimal_params[0],optimal_params[2],optimal_params[1],optimal_params[3])\n",
    "\n",
    "plt.plot(z,l_initial,label = 'modeled')\n",
    "plt.plot(z,l_fit,label = 'fit',linestyle = 'dashed')\n",
    "plt.legend()\n",
    "plt.savefig('test_lock-in')\n",
    "plt.show()"
   ]
  }
 ],
 "metadata": {
  "kernelspec": {
   "display_name": "Python 3 (ipykernel)",
   "language": "python",
   "name": "python3"
  },
  "language_info": {
   "codemirror_mode": {
    "name": "ipython",
    "version": 3
   },
   "file_extension": ".py",
   "mimetype": "text/x-python",
   "name": "python",
   "nbconvert_exporter": "python",
   "pygments_lexer": "ipython3",
   "version": "3.11.7"
  }
 },
 "nbformat": 4,
 "nbformat_minor": 5
}
