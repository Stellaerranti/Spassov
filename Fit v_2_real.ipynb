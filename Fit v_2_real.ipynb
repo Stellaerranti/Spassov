{
 "cells": [
  {
   "cell_type": "code",
   "execution_count": 1,
   "id": "18887008-5b34-4567-ae66-bd4974270653",
   "metadata": {},
   "outputs": [],
   "source": [
    "import matplotlib.pyplot as plt\n",
    "import numpy as np\n",
    "from scipy.integrate import quad\n",
    "from scipy.optimize import curve_fit\n",
    "from numpy import exp\n",
    "from numpy import sin\n",
    "from numpy import tanh\n",
    "from scipy.optimize import minimize\n",
    "from scipy.optimize import dual_annealing\n",
    "from scipy.optimize import differential_evolution"
   ]
  },
  {
   "cell_type": "code",
   "execution_count": 33,
   "id": "87f1b69c-284e-478e-9897-a5fe4993fc50",
   "metadata": {},
   "outputs": [],
   "source": [
    "def get_lock_depth_from_params(params):\n",
    "    a1,a2,b1,b2 = params\n",
    "    lock_in_depth = [(b1-2)/a1,(b1+2)/a1,(b2-2)/a2,(b2+2)/a2]\n",
    "    return lock_in_depth"
   ]
  },
  {
   "cell_type": "code",
   "execution_count": 34,
   "id": "b22ad75d-9e89-4124-af71-790eafdbaeb6",
   "metadata": {},
   "outputs": [],
   "source": [
    "def get_params_from_depths(lock_in_depth):\n",
    "    l0,l1,l2,l3 = lock_in_depth\n",
    "    params = [4/(l1-l0),4/(l3-l2),2*(l1+l0)/(l1-l0),2*(l3+l2)/(l3-l2)]\n",
    "    return params"
   ]
  },
  {
   "cell_type": "code",
   "execution_count": 60,
   "id": "5cbcd742-b340-4a8f-8d7a-ef56a93df6e7",
   "metadata": {},
   "outputs": [],
   "source": [
    "def e(z):\n",
    "    idx = np.where(np.isclose(depth, z))[0]\n",
    "    idx = idx[0]\n",
    "\n",
    "    return 1 - fraction_data[idx]"
   ]
  },
  {
   "cell_type": "code",
   "execution_count": 36,
   "id": "a6a92ccd-47f2-4910-9af3-6e5499818153",
   "metadata": {},
   "outputs": [],
   "source": [
    "def H(z):\n",
    "    # Ensure z is treated properly, even if it's an array\n",
    "    return -np.tanh(((c2 + c1) * (z - (c2 + c1) / 2)) / (c2 - c1))"
   ]
  },
  {
   "cell_type": "code",
   "execution_count": 37,
   "id": "2ad0b50e-ce6a-4cb1-a3b8-3a692a6a1972",
   "metadata": {},
   "outputs": [],
   "source": [
    "def l (z,s,a1,b1,a2,b2):\n",
    "    return e(z)/(1+exp(-a1*s+b1)) + (1-e(z))/(1+exp(-a2*s+b2))"
   ]
  },
  {
   "cell_type": "code",
   "execution_count": 38,
   "id": "3d3b96db-e389-4894-8460-a45454d14b99",
   "metadata": {},
   "outputs": [],
   "source": [
    "def l_diff(z, s, a1, b1, a2, b2):\n",
    "    term1 = (a1 * np.exp(-a1 * s + b1)) / (1 + np.exp(-a1 * s + b1))**2\n",
    "    term2 = (a2 * np.exp(-a2 * s + b2)) / (1 + np.exp(-a2 * s + b2))**2\n",
    "    return e(z) * term1 + (1 - e(z)) * term2"
   ]
  },
  {
   "cell_type": "code",
   "execution_count": 39,
   "id": "591dc1c1-dc19-41c7-9cd9-262c7a859917",
   "metadata": {},
   "outputs": [],
   "source": [
    "def integral(s, z, a1, a2, b1, b2):\n",
    "    # Convert z to float to ensure scalar use in quad\n",
    "    return H(float(z) - s) * l_diff(float(z), s, a1, b1, a2, b2)"
   ]
  },
  {
   "cell_type": "code",
   "execution_count": 40,
   "id": "f3246dc4-7f81-4667-90ed-8ee05df845db",
   "metadata": {},
   "outputs": [],
   "source": [
    "def functional_integration(z, a1, a2, b1, b2):\n",
    "    # Use quad with scalar z, converting array inputs to floats\n",
    "    result, _ = quad(lambda s: integral(s, float(z), a1, a2, b1, b2), 0, float(z))\n",
    "    return result"
   ]
  },
  {
   "cell_type": "code",
   "execution_count": 41,
   "id": "8ee9bbc9-8825-47c5-bd06-e069ffd76e3a",
   "metadata": {},
   "outputs": [],
   "source": [
    "def get_magnetisation(z, params):\n",
    "    a1, a2, b1, b2 = params\n",
    "    \n",
    "    # Vectorize the integration function to handle array inputs\n",
    "    vec_func_integration = np.vectorize(functional_integration)\n",
    "    M = vec_func_integration(z, a1, a2, b1, b2)\n",
    "    \n",
    "    return np.tanh(M * 10**3)"
   ]
  },
  {
   "cell_type": "code",
   "execution_count": 42,
   "id": "747f3702-084f-4034-babc-91968af9c051",
   "metadata": {},
   "outputs": [],
   "source": [
    "def huber_loss(params, z_data, M_obs, delta=1.0):\n",
    "    # Compute predicted magnetization\n",
    "    M_pred = get_magnetisation(z_data, params)\n",
    "    \n",
    "    # Compute the residuals\n",
    "    residuals = M_obs - M_pred\n",
    "    \n",
    "    # Compute Huber loss\n",
    "    loss = np.where(np.abs(residuals) <= delta,\n",
    "                    0.5 * residuals ** 2,\n",
    "                    delta * (np.abs(residuals) - 0.5 * delta))\n",
    "    \n",
    "    return np.mean(loss)"
   ]
  },
  {
   "cell_type": "code",
   "execution_count": 43,
   "id": "c4d9b666-c181-404e-a328-57c653d100ac",
   "metadata": {},
   "outputs": [],
   "source": [
    "def random_restarts_optimization(loss_function, z_data, M_obs, bounds, n_restarts=10):\n",
    "    solutions = []\n",
    "    for i in range(n_restarts):\n",
    "        # Generate a random initial guess within the bounds\n",
    "        random_initial = [np.random.uniform(low, high) for low, high in bounds]\n",
    "        \n",
    "        # Minimize the loss function\n",
    "        result = minimize(loss_function, random_initial, args=(z_data, M_obs), method='L-BFGS-B', bounds=bounds)\n",
    "        solutions.append(result.x)\n",
    "        \n",
    "        print(f\"Iteration: {i+1}\")\n",
    "    \n",
    "    return solutions"
   ]
  },
  {
   "cell_type": "code",
   "execution_count": 44,
   "id": "aafdb9ae-a407-4ea1-86a5-09551761bdd7",
   "metadata": {},
   "outputs": [],
   "source": [
    "c1 = 73\n",
    "c2 = 74.5"
   ]
  },
  {
   "cell_type": "code",
   "execution_count": 47,
   "id": "48f075ff-ee4a-4a48-ba6d-a2c913cdfbbe",
   "metadata": {},
   "outputs": [],
   "source": [
    "_ , fraction_data = np.loadtxt('ez.txt', unpack = True)"
   ]
  },
  {
   "cell_type": "code",
   "execution_count": 48,
   "id": "a025dfcc-d8d6-436c-81ba-e920be6cbd37",
   "metadata": {},
   "outputs": [],
   "source": [
    "polarity = np.loadtxt('Kuldara_polarity for Dima.txt')"
   ]
  },
  {
   "cell_type": "code",
   "execution_count": 49,
   "id": "99f1ff68-46da-4a96-8666-223b77e2df24",
   "metadata": {},
   "outputs": [],
   "source": [
    "polarity = np.loadtxt('Kuldara_polarity for Dima.txt')\n",
    "M_obs = polarity[np.logical_not(np.logical_and(polarity[:,1]>-45,polarity[:,1]<45))]"
   ]
  },
  {
   "cell_type": "code",
   "execution_count": 50,
   "id": "daf6bf3c-e9c6-43e4-a1b5-88db2f7bfdc0",
   "metadata": {},
   "outputs": [],
   "source": [
    "depth, M_obs = M_obs[:,0],M_obs[:,1]"
   ]
  },
  {
   "cell_type": "code",
   "execution_count": 51,
   "id": "9e70e155-93fa-4b92-88a7-2d57284839c5",
   "metadata": {},
   "outputs": [],
   "source": [
    "M_obs[M_obs > 0] = 1.\n",
    "M_obs[M_obs < 0] = -1."
   ]
  },
  {
   "cell_type": "code",
   "execution_count": 52,
   "id": "947b75db-5e54-41a1-8b17-9f8984d7336b",
   "metadata": {},
   "outputs": [],
   "source": [
    "M_obs = np.array(M_obs)\n",
    "depth = np.array(depth)"
   ]
  },
  {
   "cell_type": "code",
   "execution_count": 54,
   "id": "381e3d85-4f61-4679-b84a-ab29d8454fab",
   "metadata": {},
   "outputs": [],
   "source": [
    "bounds = [(3., 7.),  # a1\n",
    "          (0.5, 3.),  # a2\n",
    "          (2.5, 4.8),    # b1\n",
    "          (3., 5.)]    # b2"
   ]
  },
  {
   "cell_type": "code",
   "execution_count": 55,
   "id": "1a1ec8d4-5083-44a5-8085-b748c7c2a112",
   "metadata": {},
   "outputs": [],
   "source": [
    "initial_params = [1.0, 1.0, 1.0, 1.0]"
   ]
  },
  {
   "cell_type": "code",
   "execution_count": 61,
   "id": "4eec125a-0e69-4542-a51f-571d8cfe37f9",
   "metadata": {},
   "outputs": [
    {
     "name": "stdout",
     "output_type": "stream",
     "text": [
      "Iteration: 1\n",
      "Iteration: 2\n",
      "Iteration: 3\n",
      "Iteration: 4\n",
      "Iteration: 5\n",
      "Iteration: 6\n",
      "Iteration: 7\n",
      "Iteration: 8\n",
      "Iteration: 9\n",
      "Iteration: 10\n",
      "Multiple solutions found: [array([3.67972964, 2.97830614, 3.16650836, 4.58722444]), array([3.84404499, 2.74750601, 2.538911  , 3.85968027]), array([3.32238627, 0.7496949 , 3.1411026 , 4.53416455]), array([3.34558972, 1.48015208, 3.48336168, 4.0618509 ]), array([6.47327498, 2.76965298, 4.35468518, 3.09065425]), array([6.69889577, 2.92410126, 3.4371414 , 3.39993513]), array([6.69140491, 1.94871442, 3.77572073, 4.23874262]), array([5.56988949, 2.62978195, 4.1556325 , 3.94934256]), array([5.55802589, 2.35007984, 4.68976441, 3.9735564 ]), array([4.24612707, 0.85980309, 4.6015758 , 4.92664346])]\n"
     ]
    }
   ],
   "source": [
    "solutions = random_restarts_optimization(huber_loss, depth, M_obs, bounds, n_restarts=10)\n",
    "print(\"Multiple solutions found:\", solutions)"
   ]
  },
  {
   "cell_type": "code",
   "execution_count": 71,
   "id": "5ea95727-3e89-472d-842e-68b5a1173f04",
   "metadata": {},
   "outputs": [
    {
     "data": {
      "image/png": "[encoded data removed]",
      "text/plain": [
       "<Figure size 800x600 with 1 Axes>"
      ]
     },
     "metadata": {},
     "output_type": "display_data"
    },
    {
     "name": "stdout",
     "output_type": "stream",
     "text": [
      "Depths: [0.612693817457561, 1.554728743979031, 3.403853140365842, 8.056081106948115]\n"
     ]
    }
   ],
   "source": [
    "ind = 9\n",
    "\n",
    "M_optimized = get_magnetisation(depth, solutions[ind])\n",
    "\n",
    "plt.figure(figsize=(8, 6))\n",
    "plt.plot(depth, M_obs, label='Observed Data')  # Plot the observed data\n",
    "plt.plot(depth, M_optimized, label='Fitted Curve',linestyle = 'dashed')  # Plot the fitted curve\n",
    "plt.xlabel('Depth (z)')\n",
    "plt.ylabel('Magnetization')\n",
    "plt.legend()\n",
    "plt.show()\n",
    "\n",
    "print(f'Depths: {get_lock_depth_from_params(solutions[ind])}')"
   ]
  }
 ],
 "metadata": {
  "kernelspec": {
   "display_name": "Python 3 (ipykernel)",
   "language": "python",
   "name": "python3"
  },
  "language_info": {
   "codemirror_mode": {
    "name": "ipython",
    "version": 3
   },
   "file_extension": ".py",
   "mimetype": "text/x-python",
   "name": "python",
   "nbconvert_exporter": "python",
   "pygments_lexer": "ipython3",
   "version": "3.12.3"
  }
 },
 "nbformat": 4,
 "nbformat_minor": 5
}
